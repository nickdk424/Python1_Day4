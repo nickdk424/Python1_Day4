{
 "cells": [
  {
   "cell_type": "markdown",
   "metadata": {},
   "source": [
    "1. Create a dictionary named pairs with key value pairs of hello and fire, 3 and seven, strong and 45. Print out the dictionary."
   ]
  },
  {
   "cell_type": "code",
   "execution_count": 5,
   "metadata": {},
   "outputs": [
    {
     "name": "stdout",
     "output_type": "stream",
     "text": [
      "{'hello': 'fire', 3: 'seven', 'strong': 45}\n",
      "fire\n",
      "dict_keys(['hello', 3, 'strong'])\n",
      "dict_items([('hello', 'fire'), (3, 'seven'), ('strong', 45)])\n"
     ]
    }
   ],
   "source": [
    "pairs = {'hello':'fire', 3:'seven', 'strong':45}\n",
    "print(pairs)\n",
    "print(pairs[\"hello\"])\n",
    "print(pairs.keys())\n",
    "print(pairs.items())\n"
   ]
  },
  {
   "cell_type": "markdown",
   "metadata": {},
   "source": [
    "2. Add welcome and 56 pair into pairs dictionary. Print out the dictionary. "
   ]
  },
  {
   "cell_type": "code",
   "execution_count": 6,
   "metadata": {},
   "outputs": [
    {
     "name": "stdout",
     "output_type": "stream",
     "text": [
      "{'hello': 'fire', 3: 'seven', 'strong': 45, 'welcome': 56}\n"
     ]
    }
   ],
   "source": [
    "pairs['welcome'] = 56\n",
    "print(pairs)"
   ]
  },
  {
   "cell_type": "markdown",
   "metadata": {},
   "source": [
    "3. Delete one item from the Dictionary. Print deleted item and the dictionary."
   ]
  },
  {
   "cell_type": "code",
   "execution_count": 7,
   "metadata": {},
   "outputs": [
    {
     "name": "stdout",
     "output_type": "stream",
     "text": [
      "fire\n",
      "{3: 'seven', 'strong': 45, 'welcome': 56}\n"
     ]
    }
   ],
   "source": [
    "x = pairs.pop('hello')\n",
    "print(x)\n",
    "print(pairs)"
   ]
  },
  {
   "cell_type": "markdown",
   "metadata": {},
   "source": [
    "4. Print the value of an item where key is 3 from the dicitonary"
   ]
  },
  {
   "cell_type": "code",
   "execution_count": 8,
   "metadata": {},
   "outputs": [
    {
     "name": "stdout",
     "output_type": "stream",
     "text": [
      "seven\n",
      "None\n"
     ]
    }
   ],
   "source": [
    "n = pairs[3]\n",
    "print(n)\n",
    "\n",
    "n = pairs.get('hello')\n",
    "print(n)"
   ]
  },
  {
   "cell_type": "markdown",
   "metadata": {},
   "source": [
    "5. Try to find out if the key called hello exist. Print out the key is found if it is there otherwise print out the key is not there."
   ]
  },
  {
   "cell_type": "code",
   "execution_count": 9,
   "metadata": {},
   "outputs": [
    {
     "name": "stdout",
     "output_type": "stream",
     "text": [
      "Key is not found\n"
     ]
    }
   ],
   "source": [
    "if pairs.get('hello') == None:\n",
    "    print(\"Key is not found\")\n",
    "else:\n",
    "    print('Key is found')"
   ]
  },
  {
   "cell_type": "markdown",
   "metadata": {},
   "source": [
    "6. Loop through the dictionary and print out each value. "
   ]
  },
  {
   "cell_type": "code",
   "execution_count": 10,
   "metadata": {},
   "outputs": [
    {
     "name": "stdout",
     "output_type": "stream",
     "text": [
      "seven\n",
      "45\n",
      "56\n"
     ]
    }
   ],
   "source": [
    "for value in pairs.values():\n",
    "    print(value)"
   ]
  },
  {
   "cell_type": "markdown",
   "metadata": {},
   "source": [
    "7. Loop through the dictionary and print out each key."
   ]
  },
  {
   "cell_type": "code",
   "execution_count": 11,
   "metadata": {},
   "outputs": [
    {
     "name": "stdout",
     "output_type": "stream",
     "text": [
      "3\n",
      "strong\n",
      "welcome\n"
     ]
    }
   ],
   "source": [
    "for key in pairs.keys():\n",
    "    print(key)"
   ]
  },
  {
   "cell_type": "markdown",
   "metadata": {},
   "source": [
    "8. Loop through the dictionary and print out each key and value pair. "
   ]
  },
  {
   "cell_type": "code",
   "execution_count": 12,
   "metadata": {},
   "outputs": [
    {
     "name": "stdout",
     "output_type": "stream",
     "text": [
      "3 seven\n",
      "strong 45\n",
      "welcome 56\n"
     ]
    }
   ],
   "source": [
    "for key,value in pairs.items():\n",
    "    print(key, value)"
   ]
  },
  {
   "cell_type": "markdown",
   "metadata": {},
   "source": [
    "9. Make a nested dictionary called parent with 2 children's information: name, age, gender. Print out parent."
   ]
  },
  {
   "cell_type": "code",
   "execution_count": 13,
   "metadata": {},
   "outputs": [
    {
     "name": "stdout",
     "output_type": "stream",
     "text": [
      "{'child1': {'name': 'Zack', 'age': 15, 'gender': 'male'}, 'child2': {'name': 'Jane', 'age': 21, 'gender': 'female'}}\n"
     ]
    }
   ],
   "source": [
    "parent = {'child1': {'name': 'Zack', 'age': 15, 'gender':'male'}, 'child2':{'name': 'Jane', 'age': 21, 'gender':'female'}}\n",
    "print(parent)"
   ]
  },
  {
   "cell_type": "markdown",
   "metadata": {},
   "source": [
    "10. Add new child to above dictionary. Print out the name of all children."
   ]
  },
  {
   "cell_type": "code",
   "execution_count": 16,
   "metadata": {},
   "outputs": [
    {
     "name": "stdout",
     "output_type": "stream",
     "text": [
      "child1:{'name': 'Zack', 'age': 15, 'gender': 'male'}\n",
      "child2:{'name': 'Jane', 'age': 21, 'gender': 'female'}\n",
      "child3:{'name': 'Nick', 'age': 31, 'gender': 'male'}\n"
     ]
    }
   ],
   "source": [
    "parent['child3'] = {'name':'Nick', 'age': 31, 'gender': 'male'}\n",
    "for key,value in parent.items():\n",
    "    print(f\"{key}:{value}\")"
   ]
  },
  {
   "cell_type": "markdown",
   "metadata": {},
   "source": [
    "11. Create a Test Scores program that gets the name of students and test score from a user. Then, generate a list of students who passed and a list of students who failed where passing test score is 60 or above. "
   ]
  },
  {
   "cell_type": "code",
   "execution_count": 39,
   "metadata": {
    "scrolled": false
   },
   "outputs": [
    {
     "name": "stdout",
     "output_type": "stream",
     "text": [
      "Please enter Student Name and Scores. Program will return a list of students that pass or fail. \n",
      "Please enter Student Name, or Type 'quit' to compile list Nick\n",
      "Please enter Student Score: 100\n",
      "Please enter Student Name, or Type 'quit' to compile list James\n",
      "Please enter Student Score: 59\n",
      "Please enter Student Name, or Type 'quit' to compile list Corey\n",
      "Please enter Student Score: 61\n",
      "Please enter Student Name, or Type 'quit' to compile list Karen\n",
      "Please enter Student Score: 0\n",
      "Please enter Student Name, or Type 'quit' to compile list quit\n",
      "Passed:\n",
      "['Nick', 'Corey']\n",
      "Failed:\n",
      "['James', 'Karen']\n"
     ]
    }
   ],
   "source": [
    "scores = {}\n",
    "ask = 1\n",
    "print(\"Please enter Student Name and Scores. Program will return a list of students that pass or fail. \")\n",
    "\n",
    "while ask != 'quit':\n",
    "    ask = input(\"Please enter Student Name, or Type 'quit' to compile list \")\n",
    "    if ask == \"quit\":\n",
    "        break\n",
    "    score = int(input(\"Please enter Student Score: \"))\n",
    "    if score > 100:\n",
    "        print(\"Score can't exceed 100\")\n",
    "        continue\n",
    "    else:\n",
    "        scores[ask] = score   \n",
    "    \n",
    "passed = []\n",
    "failed = []\n",
    "for key,value in scores.items():\n",
    "    if value >= 60:\n",
    "        passed.append(key)\n",
    "    else:\n",
    "        failed.append(key)\n",
    "\n",
    "print(f\"Passed:\\n{passed}\")\n",
    "print(f\"Failed:\\n{failed}\")"
   ]
  },
  {
   "cell_type": "markdown",
   "metadata": {},
   "source": [
    "12. Create a Word Counter program that gets a string of text from a user and then counts the number of times a word occrs in the string. \n",
    "\n",
    "The output should look something like this:\n",
    "\n",
    "    The Word Counter Program\n",
    "    \n",
    "    Enter a text string: \n",
    "    Humpty Dumpty sat on a wall, Humpty Dumpty had a great fall. All the king’s horses and all the king’s men couldn’t put Humpty together again.\n",
    "\n",
    "    a : 2\n",
    "    again : 1\n",
    "    all : 2\n",
    "    and : 1\n",
    "    couldn’t : 1\n",
    "    dumpty : 2\n",
    "    fall : 1\n",
    "    great : 1\n",
    "    had : 1\n",
    "    horses : 1\n",
    "    humpty : 3\n",
    "    king’s : 2\n",
    "    men : 1\n",
    "    on : 1\n",
    "    put : 1\n",
    "    sat : 1\n",
    "    the : 2\n",
    "    together : 1\n",
    "    wall : 1\n",
    "\n",
    "    There were total 26 words in the text string   "
   ]
  },
  {
   "cell_type": "code",
   "execution_count": 40,
   "metadata": {},
   "outputs": [
    {
     "name": "stdout",
     "output_type": "stream",
     "text": [
      "Welcome to the String Counter Program\n",
      "******************************\n",
      "Please type a string and this program will count how many times each word is repeated: How much wood does a wood chuck chuck if a wood chuck could chuck wood\n",
      "How: 1\n",
      "a: 2\n",
      "chuck: 4\n",
      "could: 1\n",
      "does: 1\n",
      "if: 1\n",
      "much: 1\n",
      "wood: 4\n",
      "There were 15 total words in the sentence.\n"
     ]
    }
   ],
   "source": [
    "string = input(f'''Welcome to the String Counter Program\n",
    "{'*'*30}\n",
    "Please type a string and this program will count how many times each word is repeated: ''')\n",
    "str_split = string.lower()\n",
    "str_split = string.split(\" \")\n",
    "str_split = sorted(str_split)\n",
    "str_len = len(str_split)\n",
    "\n",
    "count = 0\n",
    "while count < str_len:\n",
    "    print(f\"{str_split[count]}: {str_split.count(str_split[count])}\")\n",
    "    count += str_split.count(str_split[count])\n",
    "          \n",
    "print(f\"There were {len(str_split)} total words in the sentence.\")\n"
   ]
  },
  {
   "cell_type": "code",
   "execution_count": null,
   "metadata": {},
   "outputs": [],
   "source": []
  },
  {
   "cell_type": "code",
   "execution_count": null,
   "metadata": {},
   "outputs": [],
   "source": []
  },
  {
   "cell_type": "code",
   "execution_count": null,
   "metadata": {},
   "outputs": [],
   "source": []
  }
 ],
 "metadata": {
  "kernelspec": {
   "display_name": "Python 3",
   "language": "python",
   "name": "python3"
  },
  "language_info": {
   "codemirror_mode": {
    "name": "ipython",
    "version": 3
   },
   "file_extension": ".py",
   "mimetype": "text/x-python",
   "name": "python",
   "nbconvert_exporter": "python",
   "pygments_lexer": "ipython3",
   "version": "3.8.3"
  }
 },
 "nbformat": 4,
 "nbformat_minor": 4
}
